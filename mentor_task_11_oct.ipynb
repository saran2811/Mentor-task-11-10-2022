{
  "nbformat": 4,
  "nbformat_minor": 0,
  "metadata": {
    "colab": {
      "provenance": [],
      "authorship_tag": "ABX9TyPdD1zKPqWfEO33GvrMxBxp",
      "include_colab_link": true
    },
    "kernelspec": {
      "name": "python3",
      "display_name": "Python 3"
    },
    "language_info": {
      "name": "python"
    }
  },
  "cells": [
    {
      "cell_type": "markdown",
      "metadata": {
        "id": "view-in-github",
        "colab_type": "text"
      },
      "source": [
        "<a href=\"https://colab.research.google.com/github/saran2811/Mentor-task-11-10-2022/blob/main/mentor_task_11_oct.ipynb\" target=\"_parent\"><img src=\"https://colab.research.google.com/assets/colab-badge.svg\" alt=\"Open In Colab\"/></a>"
      ]
    },
    {
      "cell_type": "code",
      "source": [
        "import numpy as np\n",
        "import itertools as it\n",
        "X=(0,1,2,3,4,5,6,7,8,9)\n",
        "Pwd=(5,7,3,8)\n",
        "X=np.array(X)\n",
        "pwd=list(Pwd)\n",
        "\n",
        "C1=it.permutations(X,4)\n",
        "c1=list(C1)\n",
        "flag=0\n",
        "d=0\n",
        "for i in range(len(c1)):\n",
        "   l=list(c1[i])\n",
        "   d+=1\n",
        "   if str(l)==str(pwd):\n",
        "      flag=1\n",
        "      break\n",
        "   else:\n",
        "      flag=0\n",
        "if flag==1:\n",
        "   print(\"Place value where pwd got generated : \",d)\n",
        "else: \n",
        "   print('no')\n"
      ],
      "metadata": {
        "colab": {
          "base_uri": "https://localhost:8080/"
        },
        "id": "nfOBsCvPgrt1",
        "outputId": "3ffa9612-2ada-445f-c784-392b047e469c"
      },
      "execution_count": 19,
      "outputs": [
        {
          "output_type": "stream",
          "name": "stdout",
          "text": [
            "Place value where pwd got generated :  2883\n"
          ]
        }
      ]
    }
  ]
}